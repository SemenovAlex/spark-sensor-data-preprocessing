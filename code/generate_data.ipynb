{
 "cells": [
  {
   "cell_type": "code",
   "execution_count": 145,
   "metadata": {},
   "outputs": [],
   "source": [
    "import pandas as pd\n",
    "import numpy as np\n",
    "from os.path import join\n",
    "from datetime import datetime, timedelta"
   ]
  },
  {
   "cell_type": "code",
   "execution_count": 146,
   "metadata": {},
   "outputs": [],
   "source": [
    "def generate_batch(batch_id, start_datetime):\n",
    "    '''generates several records of format TagName/DateTime/Value/StringValue'''\n",
    "    t = start_datetime\n",
    "    b = 'B{}'.format(10000+batch_id)\n",
    "    data = []\n",
    "    # record batch on 1st equipment\n",
    "    data.append(['EQ01.BATCH', str(t), np.nan, b])\n",
    "    # record status 0 on 1st equipment\n",
    "    data.append(['EQ01.STATUS', str(t), 0, 0])\n",
    "    # record batch on 2nd equipment\n",
    "    t += timedelta(seconds=1800+np.random.randint(120)-60)\n",
    "    data.append(['EQ02.BATCH', str(t), np.nan, b])\n",
    "    # record status 0 on 2nd equipment\n",
    "    data.append(['EQ02.STATUS', str(t), 0, 0])\n",
    "    t += timedelta(seconds=2400+np.random.randint(120)-60)\n",
    "    # record status 1 on 2nd equipment\n",
    "    data.append(['EQ02.STATUS', str(t), 1, 1])\n",
    "    t += timedelta(seconds=3000+np.random.randint(120)-60)\n",
    "    # record status 2 on 2nd equipment\n",
    "    data.append(['EQ02.STATUS', str(t), 2, 2])\n",
    "    t += timedelta(seconds=1200+np.random.randint(120)-60)\n",
    "    # record batch on 3rd equipment\n",
    "    data.append(['EQ03.BATCH', str(t), np.nan, b])\n",
    "    # record status 0 on 3rd equipment\n",
    "    data.append(['EQ03.STATUS', str(t), 0, 0])    \n",
    "    t += timedelta(seconds=600+np.random.randint(120)-60)\n",
    "    \n",
    "    return data, t"
   ]
  },
  {
   "cell_type": "code",
   "execution_count": 147,
   "metadata": {},
   "outputs": [],
   "source": [
    "def generate_signal(equipment, tag, start_datetime, num=80000):\n",
    "    '''generates several records of format TagName/DateTime/Value/StringValue'''\n",
    "    t = start_datetime\n",
    "    data = []\n",
    "    for i in range(num):\n",
    "        # record value\n",
    "        value = np.random.randint(10)\n",
    "        data.append(['{}.{}'.format(equipment, tag), str(t), value, value])\n",
    "        t += timedelta(seconds=1)\n",
    "    return data"
   ]
  },
  {
   "cell_type": "code",
   "execution_count": 148,
   "metadata": {},
   "outputs": [],
   "source": [
    "def split(batch_data):\n",
    "    this_day = []\n",
    "    next_day = []\n",
    "    for x in (batch_data):\n",
    "        if datetime.strptime(x[1], \"%Y-%m-%d %H:%M:%S\").hour > 12:\n",
    "            this_day.append(x)\n",
    "        else:\n",
    "            next_day.append(x)\n",
    "    return this_day, next_day"
   ]
  },
  {
   "cell_type": "code",
   "execution_count": 149,
   "metadata": {},
   "outputs": [],
   "source": [
    "start_datetime = datetime.strptime(\"2019-01-01 00:00:00\", \"%Y-%m-%d %H:%M:%S\")\n",
    "t = start_datetime\n",
    "day_data = []\n",
    "\n",
    "for batch_id in range(1, 100):\n",
    "    # generate batch\n",
    "    batch_data, t = generate_batch(batch_id, t)\n",
    "    # check if batch goes through 2 days\n",
    "    if (t-start_datetime).days > 0:\n",
    "        this_day, next_day = split(batch_data)\n",
    "        day_data.extend(this_day)\n",
    "        # add signal from sensors\n",
    "        signal = generate_signal('EQ1', 'POWER', start_datetime, 24*60*60)\n",
    "        day_data.extend(signal)\n",
    "        signal = generate_signal('EQ1', 'TEMP', start_datetime, 24*60*60)\n",
    "        day_data.extend(signal)\n",
    "        signal = generate_signal('EQ2', 'POWER', start_datetime, 24*60*60)\n",
    "        day_data.extend(signal)\n",
    "        signal = generate_signal('EQ2', 'TEMP', start_datetime, 24*60*60)\n",
    "        day_data.extend(signal)\n",
    "        signal = generate_signal('EQ3', 'POWER', start_datetime, 24*60*60)\n",
    "        day_data.extend(signal)\n",
    "        signal = generate_signal('EQ3', 'TEMP', start_datetime, 24*60*60)\n",
    "        day_data.extend(signal)\n",
    "        # save data\n",
    "        df = pd.DataFrame(data=day_data, columns=['TagName', 'DateTime', 'Value', 'StringValue'])\n",
    "        df.to_csv(join('..', 'data', str(start_datetime)[:10] + '.csv'), index=False)\n",
    "        # start new day\n",
    "        day_data = next_day\n",
    "        start_datetime += timedelta(seconds=24*60*60)\n",
    "    else:\n",
    "        # add batch data\n",
    "        day_data.extend(batch_data)"
   ]
  }
 ],
 "metadata": {
  "kernelspec": {
   "display_name": "Python 3",
   "language": "python",
   "name": "python3"
  },
  "language_info": {
   "codemirror_mode": {
    "name": "ipython",
    "version": 3
   },
   "file_extension": ".py",
   "mimetype": "text/x-python",
   "name": "python",
   "nbconvert_exporter": "python",
   "pygments_lexer": "ipython3",
   "version": "3.7.3"
  }
 },
 "nbformat": 4,
 "nbformat_minor": 2
}
