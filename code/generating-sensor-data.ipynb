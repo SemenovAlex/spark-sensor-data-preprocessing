{
 "cells": [
  {
   "cell_type": "markdown",
   "metadata": {},
   "source": [
    "### Generating sensor data\n",
    "\n",
    "This notebook is used to generate sensor data similar to real production data."
   ]
  },
  {
   "cell_type": "code",
   "execution_count": 1,
   "metadata": {},
   "outputs": [],
   "source": [
    "import pandas as pd\n",
    "import numpy as np\n",
    "from os.path import join\n",
    "from datetime import datetime, timedelta"
   ]
  },
  {
   "cell_type": "code",
   "execution_count": 2,
   "metadata": {},
   "outputs": [],
   "source": [
    "# Every second with this probability value will or will not be recorded.\n",
    "REC_P = 0.5"
   ]
  },
  {
   "cell_type": "code",
   "execution_count": 21,
   "metadata": {},
   "outputs": [],
   "source": [
    "def generate_batch(batch_id, start_datetime):\n",
    "    '''generates several records of format TagName/DateTime/Value/StringValue'''\n",
    "    t = start_datetime\n",
    "    b = 'B{}'.format(10000+batch_id)\n",
    "    coefs = np.random.rand(10)\n",
    "\n",
    "    data = []\n",
    "    # record batch on 1st equipment\n",
    "    data.append(['EQ01.BATCH', str(t), np.nan, b])\n",
    "    # record status 0 on 1st equipment\n",
    "    data.append(['EQ01.STATUS', str(t), 0, 0])\n",
    "    # generate a random time for the 1st equipment\n",
    "    t1 = 600+np.random.randint(60)-30\n",
    "    # record signals\n",
    "    for i in range(t1):\n",
    "        # record value\n",
    "        if np.random.binomial(1, p=REC_P):\n",
    "            value = coefs[0]*(t1/2 - abs(i-t1/2)) + np.random.rand()\n",
    "            data.append(['EQ01.POWER', str(t), value, value])\n",
    "        if np.random.binomial(1, p=REC_P):\n",
    "            value = coefs[1]*(t1/2 - abs(i-t1/2)) + np.random.rand()\n",
    "            data.append(['EQ01.TEMP', str(t), value, value])\n",
    "        t += timedelta(seconds=1)\n",
    "    t1_final = t\n",
    "    # record batch on 2nd equipment\n",
    "    data.append(['EQ02.BATCH', str(t), np.nan, b])\n",
    "    # record status 0 on 2nd equipment\n",
    "    data.append(['EQ02.STATUS', str(t), 0, 0])\n",
    "    # generate a random time for the 1st equipment\n",
    "    t20 = 600+np.random.randint(60)-30\n",
    "    # record signals\n",
    "    for i in range(t20):\n",
    "        # record value\n",
    "        if np.random.binomial(1, p=REC_P):\n",
    "            value = coefs[2]*(t20/2 - abs(i-t20/2)) + np.random.rand()\n",
    "            data.append(['EQ02.POWER', str(t), value, value])\n",
    "        if np.random.binomial(1, p=REC_P):\n",
    "            value = coefs[3]*(t20/2 - abs(i-t20/2)) + np.random.rand()\n",
    "            data.append(['EQ02.TEMP', str(t), value, value])\n",
    "        t += timedelta(seconds=1)\n",
    "    # record status 1 on 2nd equipment\n",
    "    data.append(['EQ02.STATUS', str(t), 1, 1])\n",
    "    # generate a random time for the 1st equipment\n",
    "    t21 = 600+np.random.randint(60)-30\n",
    "    # record signals\n",
    "    for i in range(t21):\n",
    "        # record value\n",
    "        if np.random.binomial(1, p=REC_P):\n",
    "            value = coefs[4]*(t21/2 - abs(i-t21/2)) + np.random.rand()\n",
    "            data.append(['EQ02.POWER', str(t), value, value])\n",
    "        if np.random.binomial(1, p=REC_P):\n",
    "            value = coefs[5]*(t21/2 - abs(i-t21/2)) + np.random.rand()\n",
    "            data.append(['EQ02.TEMP', str(t), value, value])\n",
    "        t += timedelta(seconds=1)\n",
    "    # record status 2 on 2nd equipment\n",
    "    data.append(['EQ02.STATUS', str(t), 2, 2])\n",
    "    # generate a random time for the 1st equipment\n",
    "    t22 = 600+np.random.randint(60)-30\n",
    "    # record signals\n",
    "    for i in range(t22):\n",
    "        # record value\n",
    "        if np.random.binomial(1, p=REC_P):\n",
    "            value = coefs[6]*(t22/2 - abs(i-t22/2)) + np.random.rand()\n",
    "            data.append(['EQ02.POWER', str(t), value, value])\n",
    "        if np.random.binomial(1, p=REC_P):\n",
    "            value = coefs[7]*(t22/2 - abs(i-t22/2)) + np.random.rand()\n",
    "            data.append(['EQ02.TEMP', str(t), value, value])\n",
    "        t += timedelta(seconds=1)\n",
    "    # record batch on 3rd equipment\n",
    "    data.append(['EQ03.BATCH', str(t), np.nan, b])\n",
    "    # record status 0 on 3rd equipment\n",
    "    data.append(['EQ03.STATUS', str(t), 0, 0])\n",
    "    # generate a random time for the 1st equipment\n",
    "    t3 = 600+np.random.randint(120)-60\n",
    "    # record signals\n",
    "    for i in range(t3):\n",
    "        # record value\n",
    "        if np.random.binomial(1, p=REC_P):\n",
    "            value = coefs[8]*(t3/2 - abs(i-t3/2)) + np.random.rand()\n",
    "            data.append(['EQ03.POWER', str(t), value, value])\n",
    "        if np.random.binomial(1, p=REC_P):\n",
    "            value = coefs[9]*(t3/2 - abs(i-t3/2)) + np.random.rand()\n",
    "            data.append(['EQ03.TEMP', str(t), value, value])\n",
    "        t += timedelta(seconds=1)\n",
    "    target = np.sum(np.power(coefs, 2)) + np.dot(coefs[:5], coefs[5:])\n",
    "    return data, t1_final, t, target"
   ]
  },
  {
   "cell_type": "markdown",
   "metadata": {},
   "source": [
    "Data is exported in daily exports."
   ]
  },
  {
   "cell_type": "code",
   "execution_count": 6,
   "metadata": {},
   "outputs": [],
   "source": [
    "def split(batch_data):\n",
    "    this_day = []\n",
    "    next_day = []\n",
    "    for x in (batch_data):\n",
    "        if datetime.strptime(x[1], \"%Y-%m-%d %H:%M:%S\").hour > 12:\n",
    "            this_day.append(x)\n",
    "        else:\n",
    "            next_day.append(x)\n",
    "    return this_day, next_day"
   ]
  },
  {
   "cell_type": "code",
   "execution_count": null,
   "metadata": {},
   "outputs": [],
   "source": [
    "np.random.seed(10)\n",
    "start_datetime = datetime.strptime(\"2019-01-01 00:00:00\", \"%Y-%m-%d %H:%M:%S\")\n",
    "t = start_datetime\n",
    "day_data = []\n",
    "target_data = []\n",
    "\n",
    "for batch_id in range(1, 500):\n",
    "    # generate batch\n",
    "    batch_data, t1_final, t, target = generate_batch(batch_id, t)\n",
    "    target_data.append(['B{}'.format(10000+batch_id), target])\n",
    "    # check if batch goes through 2 days\n",
    "    if (t-start_datetime).days > 0:\n",
    "        this_day, next_day = split(batch_data)\n",
    "        day_data.extend(this_day)\n",
    "        # save data\n",
    "        df = pd.DataFrame(data=day_data, columns=['TagName', 'DateTime', 'Value', 'StringValue'])\n",
    "        df.to_csv(join('..', 'data', str(start_datetime)[:10] + '.csv'), index=False)\n",
    "        # start new day\n",
    "        day_data = next_day\n",
    "        start_datetime += timedelta(seconds=24*60*60)\n",
    "    else:\n",
    "        # add batch data\n",
    "        day_data.extend(batch_data)\n",
    "    t = t1_final + timedelta(seconds=1800)"
   ]
  },
  {
   "cell_type": "markdown",
   "metadata": {},
   "source": [
    "Target values are located in a separate file."
   ]
  },
  {
   "cell_type": "code",
   "execution_count": 17,
   "metadata": {},
   "outputs": [],
   "source": [
    "target = pd.DataFrame(data=target_data, columns=['Batch', 'Target'])\n",
    "target.to_csv(join('..', 'data', 'target.csv'), index=False)"
   ]
  }
 ],
 "metadata": {
  "kernelspec": {
   "display_name": "Python 3",
   "language": "python",
   "name": "python3"
  },
  "language_info": {
   "codemirror_mode": {
    "name": "ipython",
    "version": 3
   },
   "file_extension": ".py",
   "mimetype": "text/x-python",
   "name": "python",
   "nbconvert_exporter": "python",
   "pygments_lexer": "ipython3",
   "version": "3.6.8"
  }
 },
 "nbformat": 4,
 "nbformat_minor": 2
}
